{
 "cells": [
  {
   "cell_type": "markdown",
   "metadata": {},
   "source": [
    "## Ejercicio 1: Trabajar con argumentos en funciones"
   ]
  },
  {
   "cell_type": "markdown",
   "metadata": {},
   "source": [
    "Crear funcion con tres lecturas de combustible"
   ]
  },
  {
   "cell_type": "code",
   "execution_count": 1,
   "metadata": {},
   "outputs": [],
   "source": [
    "def faul(tank_1,tank_2,tank_3):\n",
    "    total_average = ( tank_1 + tank_2 + tank_3 ) / 3\n",
    "    return (\n",
    "        f'tank 1 = { tank_1 } tank 2 = { tank_2 } tank 3 = { tank_3 } | average = { total_average }'\n",
    "    )"
   ]
  },
  {
   "cell_type": "markdown",
   "metadata": {},
   "source": [
    "Probar la función"
   ]
  },
  {
   "cell_type": "code",
   "execution_count": 2,
   "metadata": {},
   "outputs": [
    {
     "name": "stdout",
     "output_type": "stream",
     "text": [
      "tank 1 = 100 tank 2 = 34 tank 3 = 56 | average = 63.333333333333336\n"
     ]
    }
   ],
   "source": [
    "print( faul(100,34,56) )"
   ]
  },
  {
   "cell_type": "markdown",
   "metadata": {},
   "source": [
    "Separamos la función de promedio"
   ]
  },
  {
   "cell_type": "code",
   "execution_count": 5,
   "metadata": {},
   "outputs": [
    {
     "name": "stdout",
     "output_type": "stream",
     "text": [
      "63.333333333333336\n"
     ]
    }
   ],
   "source": [
    "def average(item):\n",
    "    total_item = len(item)\n",
    "    total_item_sum = sum(item)\n",
    "    result = (total_item_sum / total_item)\n",
    "    return result\n",
    "\n",
    "result_average = average([100,34,56])\n",
    "print( result_average )"
   ]
  },
  {
   "cell_type": "markdown",
   "metadata": {},
   "source": [
    "Agregar la funcion de promedio al lectura de combustible"
   ]
  },
  {
   "cell_type": "code",
   "execution_count": 6,
   "metadata": {},
   "outputs": [
    {
     "name": "stdout",
     "output_type": "stream",
     "text": [
      "tank 1 = 100 tank 2 = 34 tank 3 = 56 | average = average63.333333333333336\n"
     ]
    }
   ],
   "source": [
    "def faul(tank_1,tank_2,tank_3):\n",
    "    total_average = average([tank_1,tank_2,tank_3])\n",
    "    return (\n",
    "        f'tank 1 = { tank_1 } tank 2 = { tank_2 } tank 3 = { tank_3 } | average = average{ total_average }'\n",
    "    )\n",
    "\n",
    "print( faul(100,34,56) )"
   ]
  },
  {
   "cell_type": "markdown",
   "metadata": {},
   "source": [
    "## Ejercicio 2: Trabajo con argumentos de palabra clave"
   ]
  },
  {
   "cell_type": "markdown",
   "metadata": {},
   "source": [
    "Crear informe para la misión"
   ]
  },
  {
   "cell_type": "code",
   "execution_count": 8,
   "metadata": {},
   "outputs": [
    {
     "name": "stdout",
     "output_type": "stream",
     "text": [
      " \n",
      "    Mission to Mars \n",
      "    Total travel time: 119 minutes.\n",
      "    Tootal fuel left: 433317 gallons\n"
     ]
    }
   ],
   "source": [
    "def mission_report( pre_launch_time,flight_time,destination,external_tank,main_tank):\n",
    "    return f\"\"\" \n",
    "    Mission to { destination } \n",
    "    Total travel time: { pre_launch_time + flight_time } minutes.\n",
    "    Tootal fuel left: { external_tank + main_tank } gallons\"\"\"\n",
    "\n",
    "print(mission_report(32,87,'Mars',378989,54328))"
   ]
  },
  {
   "cell_type": "markdown",
   "metadata": {},
   "source": [
    "Crear función mas flexibles en los argumentos"
   ]
  },
  {
   "cell_type": "code",
   "execution_count": 10,
   "metadata": {},
   "outputs": [
    {
     "name": "stdout",
     "output_type": "stream",
     "text": [
      " \n",
      "    Mission to Mars \n",
      "    Total travel time: 119 minutes.\n",
      "    Tootal fuel left: 433317 gallons\n"
     ]
    }
   ],
   "source": [
    "def mission_report2(destination,*minutes,**fuel_reservoirs):\n",
    "    sum_minutes = sum(minutes)\n",
    "    sum_tank = sum(fuel_reservoirs.values())\n",
    "    return f\"\"\" \n",
    "    Mission to { destination } \n",
    "    Total travel time: { sum_minutes } minutes.\n",
    "    Tootal fuel left: { sum_tank } gallons\"\"\"\n",
    "\n",
    "print(mission_report2('Mars',32,87,main=378989,external=54328))\n"
   ]
  },
  {
   "cell_type": "markdown",
   "metadata": {},
   "source": [
    "Especificar los tanques"
   ]
  },
  {
   "cell_type": "code",
   "execution_count": 12,
   "metadata": {},
   "outputs": [
    {
     "name": "stdout",
     "output_type": "stream",
     "text": [
      " \n",
      "    Mission to Mars \n",
      "    Total travel time: 119 minutes.\n",
      "    Tootal fuel left: 433317 gallons left\n",
      "main tank | 378989 gallons left\n",
      "external tank | 54328 gallons left\n",
      "\n"
     ]
    }
   ],
   "source": [
    "def mission_report3(destination,*minutes,**fuel_reservoirs):\n",
    "    sum_minutes = sum(minutes)\n",
    "    sum_tank = sum(fuel_reservoirs.values())\n",
    "    items_fuel = fuel_reservoirs.items()\n",
    "\n",
    "    report = f\"\"\" \n",
    "    Mission to { destination } \n",
    "    Total travel time: { sum_minutes } minutes.\n",
    "    Tootal fuel left: { sum_tank } gallons left\\n\"\"\"\n",
    "\n",
    "    for tank,gallons in items_fuel:\n",
    "        report += f\"{ tank } tank | { gallons } gallons left\\n\"\n",
    "    return report\n",
    "\n",
    "print(mission_report3('Mars',32,87,main=378989,external=54328))"
   ]
  }
 ],
 "metadata": {
  "interpreter": {
   "hash": "aee8b7b246df8f9039afb4144a1f6fd8d2ca17a180786b69acc140d282b71a49"
  },
  "kernelspec": {
   "display_name": "Python 3.10.2 64-bit",
   "language": "python",
   "name": "python3"
  },
  "language_info": {
   "codemirror_mode": {
    "name": "ipython",
    "version": 3
   },
   "file_extension": ".py",
   "mimetype": "text/x-python",
   "name": "python",
   "nbconvert_exporter": "python",
   "pygments_lexer": "ipython3",
   "version": "3.10.2"
  },
  "orig_nbformat": 4
 },
 "nbformat": 4,
 "nbformat_minor": 2
}
