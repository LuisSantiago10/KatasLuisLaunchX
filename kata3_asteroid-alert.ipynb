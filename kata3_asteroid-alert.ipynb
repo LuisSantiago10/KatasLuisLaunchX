{
 "cells": [
  {
   "cell_type": "markdown",
   "metadata": {},
   "source": [
    "## Alerta asteroide\n",
    "Calcula el riesgo de un asteroide dependiendo su velocidad"
   ]
  },
  {
   "cell_type": "markdown",
   "metadata": {},
   "source": [
    "Para este ejercicio, escribirás una lógica condicional que imprima una advertencia si un asteroide se acerca a la Tierra demasiado rápido. La velocidad del asteroide varía dependiendo de lo cerca que esté del sol, y cualquier velocidad superior a 25 kilómetros por segundo (km/s) merece una advertencia.\n",
    "\n",
    "Un asteroide se acerca, y viaja a una velocidad de 49 km/s."
   ]
  },
  {
   "cell_type": "code",
   "execution_count": 12,
   "metadata": {},
   "outputs": [
    {
     "name": "stdout",
     "output_type": "stream",
     "text": [
      "Advertencia asteroide con una velocidad muy peligrosa\n"
     ]
    }
   ],
   "source": [
    "asteroide_speed = 49\n",
    "if asteroide_speed > 25:\n",
    "    print(\"Advertencia asteroide con una velocidad muy peligrosa\")\n",
    "else:\n",
    "    print(\"Sin ningun problema\")"
   ]
  },
  {
   "cell_type": "markdown",
   "metadata": {},
   "source": [
    "Si un asteroide entra en la atmósfera de la Tierra a una velocidad mayor o igual a 20 km/s, a veces produce un rayo de luz que se puede ver desde la Tierra. Escribe la lógica condicional que usa declaraciones if, else, y elif para alertar a las personas de todo el mundo que deben buscar un asteroide en el cielo. ¡Hay uno que se dirige a la tierra ahora a una velocidad de 19 km/s!"
   ]
  },
  {
   "cell_type": "code",
   "execution_count": 15,
   "metadata": {},
   "outputs": [
    {
     "name": "stdout",
     "output_type": "stream",
     "text": [
      "Se podrá observa un rayo de luz generado por un asteroide\n"
     ]
    }
   ],
   "source": [
    "asteroide_speed = 20\n",
    "if asteroide_speed >= 20:\n",
    "    print(\"Se podrá observa un rayo de luz generado por un asteroide\")\n",
    "else:\n",
    "    print(\"hoy no se mirarán asteroides\")"
   ]
  },
  {
   "cell_type": "markdown",
   "metadata": {},
   "source": [
    "Escribe un programa que emita la advertencia o información correcta a la gente de la Tierra, según la velocidad y el tamaño de un asteroide. Utiliza instrucciones if, else, y elif, así como los operadores and y or."
   ]
  },
  {
   "cell_type": "code",
   "execution_count": 7,
   "metadata": {},
   "outputs": [
    {
     "name": "stdout",
     "output_type": "stream",
     "text": [
      "Todo esta bajo control\n"
     ]
    }
   ],
   "source": [
    "asteroide_speed = 19\n",
    "asteroide_size = 19\n",
    "\n",
    "if asteroide_speed > 25 and asteroide_size > 25:\n",
    "    print(\"Advertecia! Un asteroide se acerca muy peligrosamente a la tierra\")\n",
    "elif asteroide_speed >= 20:\n",
    "    print(\"Se podrá ver un luz en el cielo\")\n",
    "elif asteroide_size < 20:\n",
    "    print(\"Todo esta bajo control\")\n",
    "else:\n",
    "    print(\"Todo esta bajo control\")"
   ]
  }
 ],
 "metadata": {
  "interpreter": {
   "hash": "aee8b7b246df8f9039afb4144a1f6fd8d2ca17a180786b69acc140d282b71a49"
  },
  "kernelspec": {
   "display_name": "Python 3.10.2 64-bit",
   "language": "python",
   "name": "python3"
  },
  "language_info": {
   "codemirror_mode": {
    "name": "ipython",
    "version": 3
   },
   "file_extension": ".py",
   "mimetype": "text/x-python",
   "name": "python",
   "nbconvert_exporter": "python",
   "pygments_lexer": "ipython3",
   "version": "3.10.2"
  },
  "orig_nbformat": 4
 },
 "nbformat": 4,
 "nbformat_minor": 2
}
